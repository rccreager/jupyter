{
 "cells": [
  {
   "cell_type": "markdown",
   "metadata": {},
   "source": [
    "A notebook for organizing work for the WCAI-Evite datathon\n",
    "\n",
    "Team members: \n",
    "Levani Zandarashvili  \n",
    "Will Hu  \n",
    "Leon Kim  \n",
    "Mike Tao  \n",
    "Rachael Creager  \n",
    "\n",
    "Canvas link: https://canvas.upenn.edu/courses/1443789  \n",
    "Student data: https://www.dropbox.com/home/Student%20Data"
   ]
  },
  {
   "cell_type": "code",
   "execution_count": 1,
   "metadata": {},
   "outputs": [],
   "source": [
    "import warnings\n",
    "warnings.filterwarnings('ignore')\n",
    "import psycopg2\n",
    "import pandas as pd\n",
    "from datetime import datetime"
   ]
  },
  {
   "cell_type": "code",
   "execution_count": 2,
   "metadata": {},
   "outputs": [
    {
     "name": "stdout",
     "output_type": "stream",
     "text": [
      "tables available:\n",
      "('host_keys',)\n",
      "('event_keys',)\n",
      "('events',)\n",
      "('user_keys',)\n",
      "('guest_hosts_tmp',)\n",
      "('guest_hosts',)\n"
     ]
    }
   ],
   "source": [
    "try:\n",
    "    conn =psycopg2.connect(\"dbname=postgres user=postgres password=password host=35.236.196.171\")\n",
    "    cur = conn.cursor()\n",
    "    cur.execute(\"\"\"SELECT table_name FROM information_schema.tables WHERE table_schema = 'public'\"\"\")\n",
    "    print(\"tables available:\")\n",
    "    for table in cur.fetchall():\n",
    "        print(table)\n",
    "        \n",
    "except (Exception, psycopg2.Error) as error :\n",
    "    print(\"could not connect to postgres database\")"
   ]
  },
  {
   "cell_type": "code",
   "execution_count": 12,
   "metadata": {},
   "outputs": [
    {
     "name": "stdout",
     "output_type": "stream",
     "text": [
      "['event_id', 'host_id', 'event_type', 'event_category', 'correspondence', 'event_category_group', 'seasonal', 'event_date', 'sent_on', 'created_date', 'location', 'zip', 'premium_vs_free', 'guests', 'rsvp_yes', 'rsvp_no', 'rsvp_maybe', 'rsvp_undecided']\n"
     ]
    }
   ],
   "source": [
    "cur.execute(\"\"\"SELECT * from events limit 10;\"\"\")\n",
    "evt_colnames = [desc[0] for desc in cur.description]\n",
    "\n",
    "df = pd.DataFrame(cur.fetchall(), columns=evt_colnames)\n",
    "df.drop('template_name', axis=1, inplace=True)\n",
    "print(list(df.columns.values))\n",
    "\n",
    "dates = df['event_date']\n",
    "#print(dates)\n",
    "\n",
    "times = [date.to_pydatetime(date).hour for date in dates]\n",
    "day_part = ['Morning' if (time >= 0 and time <= 11)\n",
    "            else 'Afternoon' if (time >= 12 and time <= 17)\n",
    "            else 'Evening' if (time >= 8 and time <= 23)\n",
    "            else 'Unknown'\n",
    "            for time in times]\n",
    "#print(day_part)\n",
    "\n",
    "months = [date.to_pydatetime(date).month for date in dates]\n",
    "seasons = [(month%12 + 3)//3 for month in months]\n",
    "seasons_text = ['Winter' if s == 1 \n",
    "                else 'Spring' if s == 2 \n",
    "                else 'Summer' if s == 3 \n",
    "                else 'Fall' if s == 4 \n",
    "                else 'Unknown' for s in seasons]\n",
    "#print(seasons_text)\n",
    "\n",
    "created_dates = df['created_date']\n",
    "created_dates = [create_date.to_pydatetime(create_date) for create_date in created_dates]\n",
    "event_dates = df['event_date']\n",
    "event_dates = [event_date.to_pydatetime(event_date) for event_date in event_dates]\n",
    "create_event_diff = [event - created for event, created in zip(event_dates, created_dates)]\n",
    "create_event_diff = [td.days for td in create_event_diff]\n",
    "#print(create_event_diff)\n",
    "\n",
    "mail_dates = df['sent_on']\n",
    "mail_dates = [mail_date.to_pydatetime(mail_date) for mail_date in mail_dates]\n",
    "mail_event_diff = [event - mail for event, mail in zip(event_dates, mail_dates)]\n",
    "mail_event_diff = [td.days for td in mail_event_diff]\n",
    "#print(mail_event_diff)\n",
    "\n",
    "create_mail_diff = [created - mail for created, mail in zip(created_dates, mail_dates)]\n",
    "create_mail_diff = [td.days for td in create_mail_diff]"
   ]
  },
  {
   "cell_type": "code",
   "execution_count": null,
   "metadata": {},
   "outputs": [],
   "source": []
  }
 ],
 "metadata": {
  "kernelspec": {
   "display_name": "Python 2",
   "language": "python",
   "name": "python2"
  },
  "language_info": {
   "codemirror_mode": {
    "name": "ipython",
    "version": 2
   },
   "file_extension": ".py",
   "mimetype": "text/x-python",
   "name": "python",
   "nbconvert_exporter": "python",
   "pygments_lexer": "ipython2",
   "version": "2.7.15rc1"
  }
 },
 "nbformat": 4,
 "nbformat_minor": 2
}
