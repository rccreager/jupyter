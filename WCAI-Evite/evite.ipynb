{
 "cells": [
  {
   "cell_type": "raw",
   "metadata": {},
   "source": [
    "A notebook for organizing work for the WCAI-Evite datathon\n",
    "\n",
    "Team members:\n",
    "Levani Zandarashvili\n",
    "Will Hu\n",
    "Leon Kim\n",
    "Mike Tao\n",
    "Rachael Creager\n",
    "\n",
    "Canvas link: https://canvas.upenn.edu/courses/1443789\n",
    "Student data: https://www.dropbox.com/home/Student%20Data"
   ]
  },
  {
   "cell_type": "code",
   "execution_count": 31,
   "metadata": {},
   "outputs": [],
   "source": [
    "import warnings\n",
    "warnings.filterwarnings('ignore')\n",
    "import psycopg2\n",
    "import pandas as pd"
   ]
  },
  {
   "cell_type": "code",
   "execution_count": 95,
   "metadata": {},
   "outputs": [
    {
     "name": "stdout",
     "output_type": "stream",
     "text": [
      "tables available:\n",
      "('host_keys',)\n",
      "('event_keys',)\n",
      "('events',)\n",
      "('guest_hosts',)\n"
     ]
    }
   ],
   "source": [
    "try:\n",
    "    conn =psycopg2.connect(\"dbname=postgres user=postgres password=password host=35.236.196.171\")\n",
    "    cur = conn.cursor()\n",
    "    cur.execute(\"\"\"SELECT table_name FROM information_schema.tables WHERE table_schema = 'public'\"\"\")\n",
    "    print(\"tables available:\")\n",
    "    for table in cur.fetchall():\n",
    "        print(table)\n",
    "        \n",
    "except (Exception, psycopg2.Error) as error :\n",
    "    print(\"could not connect to postgres database\")"
   ]
  },
  {
   "cell_type": "code",
   "execution_count": 100,
   "metadata": {},
   "outputs": [
    {
     "name": "stdout",
     "output_type": "stream",
     "text": [
      "column names in events:\n",
      "['event_id', 'host_id', 'event_type', 'event_category', 'correspondence', 'event_category_group', 'seasonal', 'event_date', 'sent_on', 'created_date', 'location', 'zip', 'premium_vs_free', 'template_name', 'guests', 'rsvp_yes', 'rsvp_no', 'rsvp_maybe', 'rsvp_undecided']\n",
      "None\n"
     ]
    }
   ],
   "source": [
    "cur.execute(\"\"\"SELECT * from events;\"\"\")\n",
    "\n",
    "colnames = [desc[0] for desc in cur.description]\n",
    "print(\"column names in events:\")\n",
    "print(colnames)\n",
    "\n",
    "result = cur.fetchone()\n",
    "print(result)\n",
    "\n",
    "#df = pd.DataFrame(cur.fetchall(), columns=colnames)"
   ]
  },
  {
   "cell_type": "code",
   "execution_count": null,
   "metadata": {},
   "outputs": [],
   "source": []
  }
 ],
 "metadata": {
  "kernelspec": {
   "display_name": "Python 2",
   "language": "python",
   "name": "python2"
  },
  "language_info": {
   "codemirror_mode": {
    "name": "ipython",
    "version": 2
   },
   "file_extension": ".py",
   "mimetype": "text/x-python",
   "name": "python",
   "nbconvert_exporter": "python",
   "pygments_lexer": "ipython2",
   "version": "2.7.15rc1"
  }
 },
 "nbformat": 4,
 "nbformat_minor": 2
}
